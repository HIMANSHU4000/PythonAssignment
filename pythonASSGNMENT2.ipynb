{
 "cells": [
  {
   "cell_type": "code",
   "execution_count": 124,
   "id": "5b5fdfe1-ad9c-4ee6-a960-f7195b42d43e",
   "metadata": {},
   "outputs": [
    {
     "name": "stdout",
     "output_type": "stream",
     "text": [
      "Hello world\n"
     ]
    }
   ],
   "source": [
    "my_string= \"hello world\"\n",
    "my_string= my_string.capitalize()\n",
    "print(my_string)"
   ]
  },
  {
   "cell_type": "code",
   "execution_count": 7,
   "id": "4531cfab-28d2-4789-b99c-6f532684acb1",
   "metadata": {},
   "outputs": [
    {
     "name": "stdout",
     "output_type": "stream",
     "text": [
      "hello\n"
     ]
    }
   ],
   "source": [
    "my_string= \"Hello\"\n",
    "my_string= my_string.casefold()\n",
    "print(my_string)"
   ]
  },
  {
   "cell_type": "code",
   "execution_count": 2,
   "id": "390fa44d-f696-4fa3-8652-a79be9f462d0",
   "metadata": {},
   "outputs": [
    {
     "data": {
      "text/plain": [
       "'---hi---'"
      ]
     },
     "execution_count": 2,
     "metadata": {},
     "output_type": "execute_result"
    }
   ],
   "source": [
    "my_string= \"hi\"\n",
    "my_string.center(8,'-')"
   ]
  },
  {
   "cell_type": "code",
   "execution_count": 14,
   "id": "7af3250a-7140-4f79-af6e-a07cfc7eb989",
   "metadata": {},
   "outputs": [
    {
     "data": {
      "text/plain": [
       "3"
      ]
     },
     "execution_count": 14,
     "metadata": {},
     "output_type": "execute_result"
    }
   ],
   "source": [
    "my_string= \"pineapple\"\n",
    "my_string.count(\"p\")"
   ]
  },
  {
   "cell_type": "code",
   "execution_count": 15,
   "id": "7cd458e7-28c9-4682-9471-3f265431e222",
   "metadata": {},
   "outputs": [
    {
     "data": {
      "text/plain": [
       "b'hello'"
      ]
     },
     "execution_count": 15,
     "metadata": {},
     "output_type": "execute_result"
    }
   ],
   "source": [
    "my_string= \"hello\"\n",
    "my_string.encode()"
   ]
  },
  {
   "cell_type": "code",
   "execution_count": 114,
   "id": "c4e56e6f-cbf1-4bb8-906d-8e39e342da61",
   "metadata": {},
   "outputs": [
    {
     "data": {
      "text/plain": [
       "True"
      ]
     },
     "execution_count": 114,
     "metadata": {},
     "output_type": "execute_result"
    }
   ],
   "source": [
    "str= \"hello.txt\"\n",
    "str.endswith(\".txt\")"
   ]
  },
  {
   "cell_type": "code",
   "execution_count": 18,
   "id": "df1edba9-6446-4510-9747-348722a95d69",
   "metadata": {},
   "outputs": [
    {
     "data": {
      "text/plain": [
       "'1     2'"
      ]
     },
     "execution_count": 18,
     "metadata": {},
     "output_type": "execute_result"
    }
   ],
   "source": [
    "my_string= \"1\\t2\"\n",
    "my_string.expandtabs(6)"
   ]
  },
  {
   "cell_type": "code",
   "execution_count": 47,
   "id": "c8d4345a-4639-484e-bf90-d47156406030",
   "metadata": {},
   "outputs": [
    {
     "data": {
      "text/plain": [
       "2"
      ]
     },
     "execution_count": 47,
     "metadata": {},
     "output_type": "execute_result"
    }
   ],
   "source": [
    "string= \"hello\"\n",
    "string.find(\"l\")"
   ]
  },
  {
   "cell_type": "code",
   "execution_count": 22,
   "id": "a25249e8-a01a-4037-9f38-b28ffe0c2420",
   "metadata": {},
   "outputs": [
    {
     "data": {
      "text/plain": [
       "'Hello,sahil!'"
      ]
     },
     "execution_count": 22,
     "metadata": {},
     "output_type": "execute_result"
    }
   ],
   "source": [
    "my_string= \"Hello,{}!\"\n",
    "my_string.format(\"sahil\")"
   ]
  },
  {
   "cell_type": "code",
   "execution_count": 23,
   "id": "4d5d8e81-46b0-4b34-80c7-e19cd64e549e",
   "metadata": {},
   "outputs": [
    {
     "data": {
      "text/plain": [
       "'Gurdeep is 21'"
      ]
     },
     "execution_count": 23,
     "metadata": {},
     "output_type": "execute_result"
    }
   ],
   "source": [
    "my_string= \"{name} is {age}\"\n",
    "my_string.format_map({\"name\": \"Gurdeep\", \"age\": 21})"
   ]
  },
  {
   "cell_type": "code",
   "execution_count": 25,
   "id": "d0c488b9-7357-4fc8-b865-8b69e6d4876a",
   "metadata": {},
   "outputs": [
    {
     "data": {
      "text/plain": [
       "4"
      ]
     },
     "execution_count": 25,
     "metadata": {},
     "output_type": "execute_result"
    }
   ],
   "source": [
    "my_string= \"hello\"\n",
    "my_string.index(\"o\")\n"
   ]
  },
  {
   "cell_type": "code",
   "execution_count": 26,
   "id": "acfccb6b-e21f-4b34-a88f-cf9343c16365",
   "metadata": {},
   "outputs": [
    {
     "data": {
      "text/plain": [
       "True"
      ]
     },
     "execution_count": 26,
     "metadata": {},
     "output_type": "execute_result"
    }
   ],
   "source": [
    "my_string= \"hello\"\n",
    "my_string.isalnum()"
   ]
  },
  {
   "cell_type": "code",
   "execution_count": 46,
   "id": "ce52bf35-1ea2-4cf5-821b-0e02539755cd",
   "metadata": {},
   "outputs": [
    {
     "data": {
      "text/plain": [
       "True"
      ]
     },
     "execution_count": 46,
     "metadata": {},
     "output_type": "execute_result"
    }
   ],
   "source": [
    "string= \"hello\"\n",
    "string.isalpha()"
   ]
  },
  {
   "cell_type": "code",
   "execution_count": 3,
   "id": "17c71a1f-ae01-4f67-9af1-ca6a1bc58648",
   "metadata": {},
   "outputs": [
    {
     "data": {
      "text/plain": [
       "True"
      ]
     },
     "execution_count": 3,
     "metadata": {},
     "output_type": "execute_result"
    }
   ],
   "source": [
    "my_string= \"Hello\"\n",
    "my_string.isascii()"
   ]
  },
  {
   "cell_type": "code",
   "execution_count": 6,
   "id": "bd8c2ce7-7899-4e49-88a5-8ec6f54565e8",
   "metadata": {},
   "outputs": [
    {
     "data": {
      "text/plain": [
       "True"
      ]
     },
     "execution_count": 6,
     "metadata": {},
     "output_type": "execute_result"
    }
   ],
   "source": [
    "my_string= \"12345\"\n",
    "my_string.isdecimal()"
   ]
  },
  {
   "cell_type": "code",
   "execution_count": 7,
   "id": "1ac5d2df-1a1b-4bf8-bbf1-9517ec4d1748",
   "metadata": {},
   "outputs": [
    {
     "data": {
      "text/plain": [
       "True"
      ]
     },
     "execution_count": 7,
     "metadata": {},
     "output_type": "execute_result"
    }
   ],
   "source": [
    "my_string= \"12345\"\n",
    "my_string.isdigit()"
   ]
  },
  {
   "cell_type": "code",
   "execution_count": 45,
   "id": "8914010b-afd7-4ddd-a2f2-251b51db27b1",
   "metadata": {},
   "outputs": [
    {
     "data": {
      "text/plain": [
       "True"
      ]
     },
     "execution_count": 45,
     "metadata": {},
     "output_type": "execute_result"
    }
   ],
   "source": [
    "string= \"ClassName\"\n",
    "string.isidentifier()"
   ]
  },
  {
   "cell_type": "code",
   "execution_count": 10,
   "id": "8ad11353-7df9-4e59-9883-15bfecd954e6",
   "metadata": {},
   "outputs": [
    {
     "data": {
      "text/plain": [
       "True"
      ]
     },
     "execution_count": 10,
     "metadata": {},
     "output_type": "execute_result"
    }
   ],
   "source": [
    "my_string= \"hello\"\n",
    "my_string.islower()"
   ]
  },
  {
   "cell_type": "code",
   "execution_count": 11,
   "id": "8f5e9825-b96f-4482-b02f-f570c822e75c",
   "metadata": {},
   "outputs": [
    {
     "data": {
      "text/plain": [
       "True"
      ]
     },
     "execution_count": 11,
     "metadata": {},
     "output_type": "execute_result"
    }
   ],
   "source": [
    "my_string= \"12345\"\n",
    "my_string.isnumeric()"
   ]
  },
  {
   "cell_type": "code",
   "execution_count": 13,
   "id": "4449dd40-93b6-4133-80db-2b6020bf74ce",
   "metadata": {},
   "outputs": [
    {
     "data": {
      "text/plain": [
       "True"
      ]
     },
     "execution_count": 13,
     "metadata": {},
     "output_type": "execute_result"
    }
   ],
   "source": [
    "my_string= \"Hello!\"\n",
    "my_string.isprintable()"
   ]
  },
  {
   "cell_type": "code",
   "execution_count": 15,
   "id": "c575a7f3-77c6-42eb-8fd3-5450721a6021",
   "metadata": {},
   "outputs": [
    {
     "data": {
      "text/plain": [
       "True"
      ]
     },
     "execution_count": 15,
     "metadata": {},
     "output_type": "execute_result"
    }
   ],
   "source": [
    "my_string= \"        \"\n",
    "my_string.isspace()"
   ]
  },
  {
   "cell_type": "code",
   "execution_count": 18,
   "id": "a9001668-0955-47c6-95f4-a76fe8596bba",
   "metadata": {},
   "outputs": [
    {
     "data": {
      "text/plain": [
       "True"
      ]
     },
     "execution_count": 18,
     "metadata": {},
     "output_type": "execute_result"
    }
   ],
   "source": [
    "my_string= \"Hello World\"\n",
    "my_string.istitle()"
   ]
  },
  {
   "cell_type": "code",
   "execution_count": 44,
   "id": "5a5a3196-e3a2-4136-9d9a-6c8a8183c354",
   "metadata": {},
   "outputs": [
    {
     "data": {
      "text/plain": [
       "True"
      ]
     },
     "execution_count": 44,
     "metadata": {},
     "output_type": "execute_result"
    }
   ],
   "source": [
    "string= \"HELLO\"\n",
    "string.isupper()"
   ]
  },
  {
   "cell_type": "code",
   "execution_count": 23,
   "id": "2e5342d1-987f-4274-b4ff-be57e20db02f",
   "metadata": {},
   "outputs": [
    {
     "name": "stdout",
     "output_type": "stream",
     "text": [
      "item1-item2-item3\n"
     ]
    }
   ],
   "source": [
    "items = [\"item1\", \"item2\", \"item3\"]\n",
    "result = \"-\".join(items)\n",
    "print(result)"
   ]
  },
  {
   "cell_type": "code",
   "execution_count": 29,
   "id": "002f5fa0-8f56-406d-a672-796b2cb1ce25",
   "metadata": {},
   "outputs": [
    {
     "name": "stdout",
     "output_type": "stream",
     "text": [
      "'Data   '\n"
     ]
    }
   ],
   "source": [
    "text = \"Data\"\n",
    "result = text.ljust(7)\n",
    "print(f\"'{result}'\")  "
   ]
  },
  {
   "cell_type": "code",
   "execution_count": 31,
   "id": "be89a674-07e7-4abe-b48b-5a0a21187a7a",
   "metadata": {},
   "outputs": [
    {
     "data": {
      "text/plain": [
       "'python'"
      ]
     },
     "execution_count": 31,
     "metadata": {},
     "output_type": "execute_result"
    }
   ],
   "source": [
    "my_string= \"PYTHON\"\n",
    "my_string.lower()"
   ]
  },
  {
   "cell_type": "code",
   "execution_count": 43,
   "id": "e0334094-735d-4ff9-9b92-8dfba563c826",
   "metadata": {},
   "outputs": [
    {
     "data": {
      "text/plain": [
       "'WORLD'"
      ]
     },
     "execution_count": 43,
     "metadata": {},
     "output_type": "execute_result"
    }
   ],
   "source": [
    "string= \"WORLD\"\n",
    "string.lstrip()"
   ]
  },
  {
   "cell_type": "code",
   "execution_count": 41,
   "id": "3fa139b7-82d8-4953-831d-7ff5a06b33fa",
   "metadata": {},
   "outputs": [
    {
     "name": "stdout",
     "output_type": "stream",
     "text": [
      "123de\n"
     ]
    }
   ],
   "source": [
    "trans_table = str.maketrans(\"abc\", \"123\")\n",
    "translated_text = \"abcde\".translate(trans_table)\n",
    "print(translated_text)"
   ]
  },
  {
   "cell_type": "code",
   "execution_count": 50,
   "id": "fa57de92-e5a4-4e35-926e-bb285b7c942c",
   "metadata": {},
   "outputs": [
    {
     "data": {
      "text/plain": [
       "('one', ',', ' two, three')"
      ]
     },
     "execution_count": 50,
     "metadata": {},
     "output_type": "execute_result"
    }
   ],
   "source": [
    "str= \"one, two, three\"\n",
    "str.partition(\",\")"
   ]
  },
  {
   "cell_type": "code",
   "execution_count": 58,
   "id": "8d8fc4e7-abf0-46be-84d4-08a72471cc3a",
   "metadata": {},
   "outputs": [
    {
     "data": {
      "text/plain": [
       "'World'"
      ]
     },
     "execution_count": 58,
     "metadata": {},
     "output_type": "execute_result"
    }
   ],
   "source": [
    "str= \"HelloWorld\"\n",
    "str.removeprefix(\"Hello\")"
   ]
  },
  {
   "cell_type": "code",
   "execution_count": 59,
   "id": "17633101-25d4-49be-a911-97161ba6db63",
   "metadata": {},
   "outputs": [
    {
     "data": {
      "text/plain": [
       "'Hello'"
      ]
     },
     "execution_count": 59,
     "metadata": {},
     "output_type": "execute_result"
    }
   ],
   "source": [
    "str= \"HelloWorld\"\n",
    "str.removesuffix(\"World\")"
   ]
  },
  {
   "cell_type": "code",
   "execution_count": 61,
   "id": "4e442c55-9ede-4963-9531-ad0f1260462e",
   "metadata": {},
   "outputs": [
    {
     "data": {
      "text/plain": [
       "'HelloWorld'"
      ]
     },
     "execution_count": 61,
     "metadata": {},
     "output_type": "execute_result"
    }
   ],
   "source": [
    "str= \"HelloPython\"\n",
    "str.replace(\"HelloPython\", \"HelloWorld\")"
   ]
  },
  {
   "cell_type": "code",
   "execution_count": 65,
   "id": "ff307954-05d3-475f-899b-03f26ce17460",
   "metadata": {},
   "outputs": [
    {
     "data": {
      "text/plain": [
       "7"
      ]
     },
     "execution_count": 65,
     "metadata": {},
     "output_type": "execute_result"
    }
   ],
   "source": [
    "str= \"HelloBoy\"\n",
    "str.rfind(\"y\")"
   ]
  },
  {
   "cell_type": "code",
   "execution_count": 66,
   "id": "0f8566e5-fa9a-42c5-9955-04bf69ac1fab",
   "metadata": {},
   "outputs": [
    {
     "data": {
      "text/plain": [
       "2"
      ]
     },
     "execution_count": 66,
     "metadata": {},
     "output_type": "execute_result"
    }
   ],
   "source": [
    "str= \"Python\"\n",
    "str.rindex(\"t\")"
   ]
  },
  {
   "cell_type": "code",
   "execution_count": 70,
   "id": "1d6c9e66-dc89-4306-bb26-7941ed046bd7",
   "metadata": {},
   "outputs": [
    {
     "data": {
      "text/plain": [
       "'-------------------------HELLO'"
      ]
     },
     "execution_count": 70,
     "metadata": {},
     "output_type": "execute_result"
    }
   ],
   "source": [
    "str= \"HELLO\"\n",
    "str.rjust(30,'-')"
   ]
  },
  {
   "cell_type": "code",
   "execution_count": 89,
   "id": "15fe1b98-a1e2-4e19-91e2-5e3fd31333e0",
   "metadata": {},
   "outputs": [
    {
     "data": {
      "text/plain": [
       "['one', ' two', ' three']"
      ]
     },
     "execution_count": 89,
     "metadata": {},
     "output_type": "execute_result"
    }
   ],
   "source": [
    "str= \"one\",\"two\",\"three\"\n",
    "string.rsplit(\",\",-1)"
   ]
  },
  {
   "cell_type": "code",
   "execution_count": 86,
   "id": "8f675482-f0dc-4586-a68b-672074edfe51",
   "metadata": {},
   "outputs": [
    {
     "data": {
      "text/plain": [
       "'Hello, World!!!'"
      ]
     },
     "execution_count": 86,
     "metadata": {},
     "output_type": "execute_result"
    }
   ],
   "source": [
    "str= \"Hello, World!!!\"\n",
    "str.rstrip()"
   ]
  },
  {
   "cell_type": "code",
   "execution_count": 103,
   "id": "005172c9-3e8b-4759-81ea-866289da5a9f",
   "metadata": {},
   "outputs": [
    {
     "name": "stdout",
     "output_type": "stream",
     "text": [
      "Hello\n",
      "World\n"
     ]
    }
   ],
   "source": [
    "str= \"Hello\\nWorld\"\n",
    "str.split(\"o\")\n",
    "print(str)"
   ]
  },
  {
   "cell_type": "code",
   "execution_count": 101,
   "id": "df4a57eb-2f35-4b42-b70a-bac95afbe561",
   "metadata": {},
   "outputs": [
    {
     "name": "stdout",
     "output_type": "stream",
     "text": [
      "Hello World!\n",
      "Welcome to Python.\n"
     ]
    }
   ],
   "source": [
    "str= \"Hello World!\\nWelcome to Python.\"\n",
    "str.splitlines()\n",
    "print(str)"
   ]
  },
  {
   "cell_type": "code",
   "execution_count": 104,
   "id": "355d7f00-02cb-4b46-b31b-9aa102267506",
   "metadata": {},
   "outputs": [
    {
     "data": {
      "text/plain": [
       "True"
      ]
     },
     "execution_count": 104,
     "metadata": {},
     "output_type": "execute_result"
    }
   ],
   "source": [
    "str= \"Hello World!!\"\n",
    "str.startswith(\"Hello\")"
   ]
  },
  {
   "cell_type": "code",
   "execution_count": 106,
   "id": "4bfb82ee-bd57-40fd-a390-716d2fa3c6e9",
   "metadata": {},
   "outputs": [
    {
     "data": {
      "text/plain": [
       "'Hello, World'"
      ]
     },
     "execution_count": 106,
     "metadata": {},
     "output_type": "execute_result"
    }
   ],
   "source": [
    "str= \"!!!Hello, World!!!\"\n",
    "str.strip(\"!\")"
   ]
  },
  {
   "cell_type": "code",
   "execution_count": 107,
   "id": "6fc15dad-4e36-43a0-942f-19da016e8eb1",
   "metadata": {},
   "outputs": [
    {
     "data": {
      "text/plain": [
       "'hELLO, wORLD'"
      ]
     },
     "execution_count": 107,
     "metadata": {},
     "output_type": "execute_result"
    }
   ],
   "source": [
    "str= \"Hello, World\"\n",
    "str.swapcase()"
   ]
  },
  {
   "cell_type": "code",
   "execution_count": 110,
   "id": "7b6e6d10-6d36-459e-8ced-1d6653a115bc",
   "metadata": {},
   "outputs": [
    {
     "data": {
      "text/plain": [
       "'Python'"
      ]
     },
     "execution_count": 110,
     "metadata": {},
     "output_type": "execute_result"
    }
   ],
   "source": [
    "str= \"PYTHON\"\n",
    "str.title()"
   ]
  },
  {
   "cell_type": "code",
   "execution_count": 112,
   "id": "b16a7d6d-d8bb-4fde-8943-0005c7db8541",
   "metadata": {},
   "outputs": [
    {
     "data": {
      "text/plain": [
       "'Hello, World!!'"
      ]
     },
     "execution_count": 112,
     "metadata": {},
     "output_type": "execute_result"
    }
   ],
   "source": [
    "str= \"Hello, World!!\"\n",
    "str.translate(\"e\")"
   ]
  },
  {
   "cell_type": "code",
   "execution_count": 117,
   "id": "13758c33-640e-4a96-b242-de0efe16f61f",
   "metadata": {},
   "outputs": [
    {
     "data": {
      "text/plain": [
       "'PYTOHN'"
      ]
     },
     "execution_count": 117,
     "metadata": {},
     "output_type": "execute_result"
    }
   ],
   "source": [
    "str= \"pytohn\"\n",
    "str.upper()"
   ]
  },
  {
   "cell_type": "code",
   "execution_count": 121,
   "id": "d6082d41-0d71-4451-8cb4-b7a36b541abb",
   "metadata": {},
   "outputs": [
    {
     "data": {
      "text/plain": [
       "'000045'"
      ]
     },
     "execution_count": 121,
     "metadata": {},
     "output_type": "execute_result"
    }
   ],
   "source": [
    "str= \"45\"\n",
    "str.zfill(6)"
   ]
  },
  {
   "cell_type": "code",
   "execution_count": null,
   "id": "efff01ae-371c-484a-9636-ed99ed627f8e",
   "metadata": {},
   "outputs": [],
   "source": []
  }
 ],
 "metadata": {
  "kernelspec": {
   "display_name": "Python 3 (ipykernel)",
   "language": "python",
   "name": "python3"
  },
  "language_info": {
   "codemirror_mode": {
    "name": "ipython",
    "version": 3
   },
   "file_extension": ".py",
   "mimetype": "text/x-python",
   "name": "python",
   "nbconvert_exporter": "python",
   "pygments_lexer": "ipython3",
   "version": "3.13.5"
  }
 },
 "nbformat": 4,
 "nbformat_minor": 5
}
