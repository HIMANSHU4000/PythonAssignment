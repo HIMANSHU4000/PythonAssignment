{
 "cells": [
  {
   "cell_type": "code",
   "execution_count": 4,
   "id": "c146859c-87ae-471a-a08d-b31d77239970",
   "metadata": {},
   "outputs": [
    {
     "name": "stdin",
     "output_type": "stream",
     "text": [
      "Enter the number of units:  600\n"
     ]
    },
    {
     "name": "stdout",
     "output_type": "stream",
     "text": [
      "Total electricity bill is Rs 4500\n"
     ]
    }
   ],
   "source": [
    "# Function to calculate electricity bill\n",
    "def calculate_bill(units):\n",
    "    if units <= 100:\n",
    "        bill = 0\n",
    "    elif units <= 200:\n",
    "        bill = (units - 100) * 5\n",
    "    else:\n",
    "        bill = (100 * 5) + ((units - 200) * 10)\n",
    "    \n",
    "    return bill\n",
    "\n",
    "# Input from user\n",
    "user_units = int(input(\"Enter the number of units: \"))\n",
    "total_bill = calculate_bill(user_units)\n",
    "print(\"Total electricity bill is Rs\", total_bill)\n"
   ]
  },
  {
   "cell_type": "code",
   "execution_count": 9,
   "id": "ee3cdb7a-6ff5-469c-b01b-447e1dba7806",
   "metadata": {},
   "outputs": [
    {
     "name": "stdin",
     "output_type": "stream",
     "text": [
      "Enter percentage:  89\n"
     ]
    },
    {
     "name": "stdout",
     "output_type": "stream",
     "text": [
      "Your grade is: B\n"
     ]
    }
   ],
   "source": [
    "# Function to determine grade\n",
    "def determine_grade(marks):\n",
    "    if marks > 90:\n",
    "        return \"A\"\n",
    "    elif marks >= 80:\n",
    "        return \"B\"\n",
    "    elif marks >= 60:\n",
    "        return \"C\"\n",
    "    else:\n",
    "        return \"D\"\n",
    "\n",
    "# Input from user\n",
    "user_marks = float(input(\"Enter percentage: \"))\n",
    "grade = determine_grade(user_marks)\n",
    "print(\"Your grade is:\", grade)\n"
   ]
  },
  {
   "cell_type": "code",
   "execution_count": 10,
   "id": "2bb812a2-302f-429b-8c15-73491ee63241",
   "metadata": {},
   "outputs": [
    {
     "name": "stdin",
     "output_type": "stream",
     "text": [
      "Enter age of person 1:  8\n",
      "Enter age of person 2:  15\n",
      "Enter age of person 3:  19\n",
      "Enter age of person 4:  20\n"
     ]
    },
    {
     "name": "stdout",
     "output_type": "stream",
     "text": [
      "The youngest age is: 8\n"
     ]
    }
   ],
   "source": [
    "# Function to find the youngest age\n",
    "def find_youngest(ages):\n",
    "    return min(ages)\n",
    "\n",
    "# Input ages from the user\n",
    "ages = []\n",
    "for i in range(4):\n",
    "    age = int(input(f\"Enter age of person {i+1}: \"))\n",
    "    ages.append(age)\n",
    "\n",
    "youngest = find_youngest(ages)\n",
    "print(\"The youngest age is:\", youngest)"
   ]
  },
  {
   "cell_type": "code",
   "execution_count": 13,
   "id": "b12fd633-a96d-4a23-afdf-cfa67971237b",
   "metadata": {},
   "outputs": [
    {
     "name": "stdin",
     "output_type": "stream",
     "text": [
      "Enter your salary:  45000\n",
      "Enter years of service:  5\n"
     ]
    },
    {
     "name": "stdout",
     "output_type": "stream",
     "text": [
      "Your net bonus amount is: 2250.00\n"
     ]
    }
   ],
   "source": [
    "# Input from user\n",
    "salary = float(input(\"Enter your salary: \"))\n",
    "years_of_service = int(input(\"Enter years of service: \"))\n",
    "\n",
    "# Calculate bonus\n",
    "if years_of_service > 10:\n",
    "    bonus = salary * 0.10\n",
    "elif 6 <= years_of_service <= 10:\n",
    "    bonus = salary * 0.08\n",
    "else:\n",
    "    bonus = salary * 0.05\n",
    "\n",
    "# Output the bonus amount\n",
    "print(f\"Your net bonus amount is: {bonus:.2f}\")"
   ]
  },
  {
   "cell_type": "code",
   "execution_count": 14,
   "id": "5ba88616-31b4-4a3e-9736-244c21028764",
   "metadata": {},
   "outputs": [
    {
     "name": "stdin",
     "output_type": "stream",
     "text": [
      "Enter number 1:  34\n",
      "Enter number 2:  36\n",
      "Enter number 3:  65\n"
     ]
    },
    {
     "name": "stdout",
     "output_type": "stream",
     "text": [
      "The second largest number is: 36.0\n"
     ]
    }
   ],
   "source": [
    "# Input from user\n",
    "numbers = []\n",
    "for i in range(3):\n",
    "    number = float(input(f\"Enter number {i + 1}: \"))\n",
    "    numbers.append(number)\n",
    "\n",
    "# Finding the second largest\n",
    "numbers.sort()\n",
    "second_largest = numbers[-2]\n",
    "\n",
    "# Output the second largest number\n",
    "print(f\"The second largest number is: {second_largest}\")"
   ]
  },
  {
   "cell_type": "code",
   "execution_count": 16,
   "id": "96e52afb-e721-4140-ba5e-597f9217a2a4",
   "metadata": {},
   "outputs": [
    {
     "name": "stdin",
     "output_type": "stream",
     "text": [
      "Enter the marked price:  23000\n"
     ]
    },
    {
     "name": "stdout",
     "output_type": "stream",
     "text": [
      "The net amount to pay is: 18400.00\n"
     ]
    }
   ],
   "source": [
    "# Input from user\n",
    "marked_price = float(input(\"Enter the marked price: \"))\n",
    "\n",
    "# Calculate discount\n",
    "if marked_price > 10000:\n",
    "    discount = marked_price * 0.20\n",
    "elif 7000 < marked_price <= 10000:\n",
    "    discount = marked_price * 0.15\n",
    "else:\n",
    "    discount = marked_price * 0.10\n",
    "\n",
    "# Calculate net amount\n",
    "net_amount = marked_price - discount\n",
    "\n",
    "# Output the net amount\n",
    "print(f\"The net amount to pay is: {net_amount:.2f}\")"
   ]
  },
  {
   "cell_type": "code",
   "execution_count": 17,
   "id": "5f696b6c-4728-4229-adf0-936dcdce568b",
   "metadata": {},
   "outputs": [
    {
     "name": "stdin",
     "output_type": "stream",
     "text": [
      "Enter English marks:  84\n",
      "Enter Math marks:  66\n",
      "Enter Science marks:  56\n",
      "Enter Social Studies marks:  77\n"
     ]
    },
    {
     "name": "stdout",
     "output_type": "stream",
     "text": [
      "The assigned stream is: Commerce Stream\n"
     ]
    }
   ],
   "source": [
    "# Function to determine the stream based on marks\n",
    "def determine_stream(english, math, science, social_studies):\n",
    "    if english > 80 and math > 80 and science > 80:\n",
    "        return \"Science Stream\"\n",
    "    elif english > 80 and math > 50 and science > 50:\n",
    "        return \"Commerce Stream\"\n",
    "    elif english > 80 and social_studies > 80:\n",
    "        return \"Humanities\"\n",
    "    else:\n",
    "        return \"No Stream Assigned\"\n",
    "\n",
    "# Example usage\n",
    "english_marks = float(input(\"Enter English marks: \"))\n",
    "math_marks = float(input(\"Enter Math marks: \"))\n",
    "science_marks = float(input(\"Enter Science marks: \"))\n",
    "social_studies_marks = float(input(\"Enter Social Studies marks: \"))\n",
    "\n",
    "stream = determine_stream(english_marks, math_marks, science_marks, social_studies_marks)\n",
    "print(\"The assigned stream is:\", stream)"
   ]
  },
  {
   "cell_type": "code",
   "execution_count": 27,
   "id": "ecd71687-35df-4242-b2a1-87d7a9882728",
   "metadata": {},
   "outputs": [
    {
     "name": "stdin",
     "output_type": "stream",
     "text": [
      "Enter a number:  15\n"
     ]
    },
    {
     "name": "stdout",
     "output_type": "stream",
     "text": [
      "Hello\n"
     ]
    }
   ],
   "source": [
    "# Function to display message based on the number entered\n",
    "def display_message(number):\n",
    "    if number % 5 == 0:\n",
    "        return \"Hello\"\n",
    "    else:\n",
    "        return \"Bye\"\n",
    "\n",
    "# Example usage\n",
    "user_input = int(input(\"Enter a number: \"))\n",
    "message = display_message(user_input)\n",
    "print(message)"
   ]
  },
  {
   "cell_type": "code",
   "execution_count": 33,
   "id": "5c004e7f-cb21-4e62-8ca8-b1dc42c6221b",
   "metadata": {},
   "outputs": [
    {
     "name": "stdin",
     "output_type": "stream",
     "text": [
      "Enter a number:  55\n"
     ]
    },
    {
     "name": "stdout",
     "output_type": "stream",
     "text": [
      "Last digit is not divisible by 3\n"
     ]
    }
   ],
   "source": [
    "# Function to check last digit of a number\n",
    "def check_last_digit_divisibility(number):\n",
    "    last_digit = abs(number) % 10  # Getting the last digit\n",
    "    if last_digit % 3 == 0:\n",
    "        return \"Last digit is divisible by 3\"\n",
    "    else:\n",
    "        return \"Last digit is not divisible by 3\"\n",
    "\n",
    "# Example usage\n",
    "user_input = int(input(\"Enter a number: \"))\n",
    "result = check_last_digit_divisibility(user_input)\n",
    "print(result)"
   ]
  },
  {
   "cell_type": "code",
   "execution_count": 37,
   "id": "b4a5392f-21b1-4d5d-a415-ecba85eff3ad",
   "metadata": {},
   "outputs": [
    {
     "name": "stdin",
     "output_type": "stream",
     "text": [
      "Enter a number:  556\n"
     ]
    },
    {
     "name": "stdout",
     "output_type": "stream",
     "text": [
      "The number is a three-digit number.\n"
     ]
    }
   ],
   "source": [
    "# Function to check if a number is a three-digit number\n",
    "def is_three_digit_number(number):\n",
    "    return 100 <= abs(number) < 1000\n",
    "\n",
    "# Example usage\n",
    "user_input = int(input(\"Enter a number: \"))\n",
    "if is_three_digit_number(user_input):\n",
    "    print(\"The number is a three-digit number.\")\n",
    "else:\n",
    "    print(\"The number is not a three-digit number.\")"
   ]
  },
  {
   "cell_type": "code",
   "execution_count": null,
   "id": "c8cfbfd8-887f-430f-822e-fc3bb92a75a3",
   "metadata": {},
   "outputs": [],
   "source": []
  }
 ],
 "metadata": {
  "kernelspec": {
   "display_name": "Python 3 (ipykernel)",
   "language": "python",
   "name": "python3"
  },
  "language_info": {
   "codemirror_mode": {
    "name": "ipython",
    "version": 3
   },
   "file_extension": ".py",
   "mimetype": "text/x-python",
   "name": "python",
   "nbconvert_exporter": "python",
   "pygments_lexer": "ipython3",
   "version": "3.13.5"
  }
 },
 "nbformat": 4,
 "nbformat_minor": 5
}
