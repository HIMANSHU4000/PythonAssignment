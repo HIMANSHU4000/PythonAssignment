{
 "cells": [
  {
   "cell_type": "code",
   "execution_count": null,
   "id": "5fb50cf1-e3b1-4514-ac55-f488eb043774",
   "metadata": {},
   "outputs": [],
   "source": [
    "def create_offer_letter():\n",
    "    # Taking input \n",
    "    address = input(\"A/52 Sector 16 Noida UP): \")\n",
    "    candidate_name = input(\"Himanshu\")\n",
    "    position = input(\"Python Developer\")\n",
    "    joining_date = input(\"01-01-2023\")\n",
    "    compensation = input(\"23424363 \")\n",
    "    email = input(\"RKT6543@gmail.com\")\n",
    "    hr_name = input(\"Sunil Kumar\")\n",
    "\n",
    "    # Creating the offer letter\n",
    "    offer_letter_content = f\"\"\"\n",
    "{address}\n",
    "\n",
    "Dear {candidate_name},\n",
    "\n",
    "Subject: Offer of Employment for the position of {position}\n",
    "\n",
    "We are delighted to extend this formal offer of employment to you for the position of {position} at our organization. Based on your qualifications and the skills you demonstrated during the recruitment process, we are confident that you will be a valuable addition to our team.\n",
    "\n",
    "As discussed, your expected date of joining is {joining_date}. Your total compensation package will be {compensation}, which includes all salary components as per the company’s policy. Further details regarding your compensation will be provided in your employment contract.\n",
    "\n",
    "We expect you to bring your best efforts to help the company achieve its goals, and we are committed to supporting your professional growth during your time with us.\n",
    "\n",
    "Please confirm your acceptance of this offer by sending an email to {email} at your earliest convenience. Should you have any queries regarding this offer, feel free to reach out to us.\n",
    "\n",
    "We look forward to having you onboard and are excited about the great things we can accomplish together.\n",
    "\n",
    "Sincerely,\n",
    "\n",
    "{hr_name}\n",
    "HR Manager\n",
    "\"\"\"\n",
    "\n",
    "    # Printing the offer letter\n",
    "    print(offer_letter)\n",
    "\n",
    "# Call the function to create the offer letter\n",
    "create_offer_letter()\n"
   ]
  },
  {
   "cell_type": "code",
   "execution_count": null,
   "id": "b60268e1-a2a3-4cd9-bb67-3a4663faab0d",
   "metadata": {},
   "outputs": [],
   "source": []
  }
 ],
 "metadata": {
  "kernelspec": {
   "display_name": "Python 3 (ipykernel)",
   "language": "python",
   "name": "python3"
  },
  "language_info": {
   "codemirror_mode": {
    "name": "ipython",
    "version": 3
   },
   "file_extension": ".py",
   "mimetype": "text/x-python",
   "name": "python",
   "nbconvert_exporter": "python",
   "pygments_lexer": "ipython3",
   "version": "3.13.5"
  }
 },
 "nbformat": 4,
 "nbformat_minor": 5
}
