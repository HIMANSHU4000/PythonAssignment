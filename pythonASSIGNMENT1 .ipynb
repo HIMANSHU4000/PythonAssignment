{
 "cells": [
  {
   "cell_type": "code",
   "execution_count": null,
   "id": "3d88f425-4a0b-48ba-9e4a-542274abb856",
   "metadata": {},
   "outputs": [],
   "source": [
    "Answer1- \n",
    "Expression:\n",
    "*\n",
    "-\n",
    "/\n",
    "+\n",
    "Value:\n",
    "'hello'\n",
    "-87.8\n",
    "6"
   ]
  },
  {
   "cell_type": "code",
   "execution_count": null,
   "id": "d79c9e1b-0baf-4dbd-ac76-fbee5d0afcce",
   "metadata": {},
   "outputs": [],
   "source": [
    "Answer2- \n",
    "String: A string is a sequence of characters enclosed in quotes (e.g., \"hello\").\n",
    "    \n",
    "Variable: A variable is a named container used to store data. It can store a string, number, or other types (e.g., name = \"hello\"). "
   ]
  },
  {
   "cell_type": "code",
   "execution_count": null,
   "id": "dfa4ef7b-a6c8-41e5-bd09-bf8e0d7f7e7b",
   "metadata": {},
   "outputs": [],
   "source": [
    "Answer3 -\n",
    "The three different data types are:\n",
    "1.Integer (int): Whole numbers (e.g., 5, -10)\n",
    "\n",
    "2.Float (float): Decimal numbers (e.g., 3.14, -87.8)\n",
    "\n",
    "3.String (str): Text data enclosed in quotes (e.g., 'hello', \"Python\")\n",
    "\n"
   ]
  },
  {
   "cell_type": "code",
   "execution_count": null,
   "id": "43d3445c-642c-48fd-bb51-c82068f9b3dc",
   "metadata": {},
   "outputs": [],
   "source": [
    "Answer4 -\n",
    "An expression is made up of values, variables, and operators (for e.g., 3 + 4, a * 2).All expressions evaluate to a single value.\n"
   ]
  },
  {
   "cell_type": "code",
   "execution_count": null,
   "id": "b57e7db8-2853-4a82-858b-f946406b0fc4",
   "metadata": {},
   "outputs": [],
   "source": [
    "Answer5 -\n",
    "Expression: An expression is a piece of code that produces or evaluates to a value. It can be something as simple as 2 + 3, \"hello\", or x * 5. Expressions are used when you want to compute something.\n",
    "\n",
    "Statement: A statement, on the other hand, is a complete line of code that performs an action. This could be assigning a value to a variable (x = 5), using a control flow structure (if x > 3:), or calling a function (print(\"hello\")). A statement may contain expressions, but its purpose is to do something, not just return a value."
   ]
  },
  {
   "cell_type": "code",
   "execution_count": null,
   "id": "e08ee173-d041-44f1-8b9c-7f4e1558218b",
   "metadata": {},
   "outputs": [],
   "source": [
    "Answer6 -\n",
    "bacon = 22\n",
    "bacon + 1\n",
    "The variable bacon still contains 22 because the result of bacon + 1 was not stored back into bacon."
   ]
  },
  {
   "cell_type": "code",
   "execution_count": null,
   "id": "6b028541-deb8-4dbc-b9b3-0ca0f8c044f1",
   "metadata": {},
   "outputs": [],
   "source": [
    "Answer7 -\n",
    "'spam' + 'spamspam' → 'spamspamspam'\n",
    "\n",
    "'spam' * 3 → 'spamspamspam'"
   ]
  },
  {
   "cell_type": "code",
   "execution_count": null,
   "id": "96cb3b0f-207c-4b94-b5a7-1ccbc2110280",
   "metadata": {},
   "outputs": [],
   "source": [
    "Answer8 -\n",
    "eggs is a valid variable name because it starts with a letter.\n",
    "\n",
    "And 100 is invalid as a variable name because variable names cannot start with a number."
   ]
  },
  {
   "cell_type": "code",
   "execution_count": null,
   "id": "179bb2e8-94d1-4d80-820b-183610e182bc",
   "metadata": {},
   "outputs": [],
   "source": [
    "Answer9 -\n",
    "The three functions for type conversion are:\n",
    "1. int() → converts to integer\n",
    "\n",
    "2. float() → converts to float\n",
    "\n",
    "3. str() → converts to string\n"
   ]
  },
  {
   "cell_type": "code",
   "execution_count": null,
   "id": "9db7820d-a988-4531-afc7-8f8482657259",
   "metadata": {},
   "outputs": [],
   "source": [
    "Answer10 -"
   ]
  },
  {
   "cell_type": "code",
   "execution_count": 1,
   "id": "c5ecfe3c-c899-4a15-a812-ce93b07e9abf",
   "metadata": {},
   "outputs": [
    {
     "ename": "TypeError",
     "evalue": "can only concatenate str (not \"int\") to str",
     "output_type": "error",
     "traceback": [
      "\u001b[31m---------------------------------------------------------------------------\u001b[39m",
      "\u001b[31mTypeError\u001b[39m                                 Traceback (most recent call last)",
      "\u001b[36mCell\u001b[39m\u001b[36m \u001b[39m\u001b[32mIn[1]\u001b[39m\u001b[32m, line 1\u001b[39m\n\u001b[32m----> \u001b[39m\u001b[32m1\u001b[39m \u001b[33;43m'\u001b[39;49m\u001b[33;43mI have eaten \u001b[39;49m\u001b[33;43m'\u001b[39;49m\u001b[43m \u001b[49m\u001b[43m+\u001b[49m\u001b[43m \u001b[49m\u001b[32;43m99\u001b[39;49m + \u001b[33m'\u001b[39m\u001b[33m burritos.\u001b[39m\u001b[33m'\u001b[39m\n",
      "\u001b[31mTypeError\u001b[39m: can only concatenate str (not \"int\") to str"
     ]
    }
   ],
   "source": [
    "'I have eaten ' + 99 + ' burritos.'"
   ]
  },
  {
   "cell_type": "code",
   "execution_count": null,
   "id": "9cbad373-dba1-4683-b859-261ca2edee9b",
   "metadata": {},
   "outputs": [],
   "source": [
    "Error Reason: You cannot concatenate a string and an integer directly."
   ]
  },
  {
   "cell_type": "code",
   "execution_count": null,
   "id": "889565ce-969c-4502-b186-b8923bdd07ba",
   "metadata": {},
   "outputs": [],
   "source": [
    "Fix: Convert the integer to a string using str():"
   ]
  },
  {
   "cell_type": "code",
   "execution_count": 2,
   "id": "2fe5bd4d-82f1-4439-a21f-f584dec987cc",
   "metadata": {},
   "outputs": [
    {
     "data": {
      "text/plain": [
       "'I have eaten 99 burritos.'"
      ]
     },
     "execution_count": 2,
     "metadata": {},
     "output_type": "execute_result"
    }
   ],
   "source": [
    "'I have eaten ' + str(99) + ' burritos.'"
   ]
  },
  {
   "cell_type": "code",
   "execution_count": null,
   "id": "69772a53-478a-4158-80d3-b52855c5f039",
   "metadata": {},
   "outputs": [],
   "source": []
  }
 ],
 "metadata": {
  "kernelspec": {
   "display_name": "Python 3 (ipykernel)",
   "language": "python",
   "name": "python3"
  },
  "language_info": {
   "codemirror_mode": {
    "name": "ipython",
    "version": 3
   },
   "file_extension": ".py",
   "mimetype": "text/x-python",
   "name": "python",
   "nbconvert_exporter": "python",
   "pygments_lexer": "ipython3",
   "version": "3.13.5"
  }
 },
 "nbformat": 4,
 "nbformat_minor": 5
}
